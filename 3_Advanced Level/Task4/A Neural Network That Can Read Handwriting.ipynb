{
 "cells": [
  {
   "cell_type": "code",
   "execution_count": 1,
   "id": "92f95d3e",
   "metadata": {},
   "outputs": [
    {
     "name": "stdout",
     "output_type": "stream",
     "text": [
      "Python 3.8.8\n"
     ]
    }
   ],
   "source": [
    "!python --version"
   ]
  },
  {
   "cell_type": "markdown",
   "id": "7f40a6fd",
   "metadata": {},
   "source": [
    "# LGMVIP-DataScience"
   ]
  },
  {
   "cell_type": "markdown",
   "id": "f53c6ac3",
   "metadata": {},
   "source": [
    "# Task 4"
   ]
  },
  {
   "cell_type": "markdown",
   "id": "fb24cf4d",
   "metadata": {},
   "source": [
    "# Author : Anupam Tudu"
   ]
  },
  {
   "cell_type": "markdown",
   "id": "b13a3f2e",
   "metadata": {},
   "source": [
    "# Develop A Neural Network That Can Read Handwriting"
   ]
  },
  {
   "cell_type": "code",
   "execution_count": 2,
   "id": "e814553d",
   "metadata": {},
   "outputs": [],
   "source": [
    "import numpy as np\n",
    "import tensorflow as tf\n",
    "import matplotlib.pyplot as plt"
   ]
  },
  {
   "cell_type": "markdown",
   "id": "cb009b45",
   "metadata": {},
   "source": [
    "## Loading the MNIST dataset"
   ]
  },
  {
   "cell_type": "code",
   "execution_count": 3,
   "id": "075e7e12",
   "metadata": {},
   "outputs": [],
   "source": [
    "data = tf.keras.datasets.mnist"
   ]
  },
  {
   "cell_type": "markdown",
   "id": "aa9bf164",
   "metadata": {},
   "source": [
    "## Splitting into train and test images and their labels"
   ]
  },
  {
   "cell_type": "code",
   "execution_count": 4,
   "id": "92cd2ccc",
   "metadata": {
    "scrolled": true
   },
   "outputs": [],
   "source": [
    "(train_img, train_lbl), (test_img, test_lbl) = data.load_data()"
   ]
  },
  {
   "cell_type": "code",
   "execution_count": 5,
   "id": "209ea7f1",
   "metadata": {},
   "outputs": [
    {
     "data": {
      "text/plain": [
       "((60000, 28, 28), (60000,))"
      ]
     },
     "execution_count": 5,
     "metadata": {},
     "output_type": "execute_result"
    }
   ],
   "source": [
    "train_img.shape, train_lbl.shape"
   ]
  },
  {
   "cell_type": "code",
   "execution_count": 6,
   "id": "ee859966",
   "metadata": {},
   "outputs": [
    {
     "data": {
      "text/plain": [
       "((10000, 28, 28), (10000,))"
      ]
     },
     "execution_count": 6,
     "metadata": {},
     "output_type": "execute_result"
    }
   ],
   "source": [
    "test_img.shape, test_lbl.shape"
   ]
  },
  {
   "cell_type": "markdown",
   "id": "b42f5db1",
   "metadata": {},
   "source": [
    "## Data Visualization"
   ]
  },
  {
   "cell_type": "code",
   "execution_count": 7,
   "id": "3134d1c5",
   "metadata": {},
   "outputs": [
    {
     "data": {
      "image/png": "[encoded data removed]",
      "text/plain": [
       "<Figure size 432x288 with 9 Axes>"
      ]
     },
     "metadata": {
      "needs_background": "light"
     },
     "output_type": "display_data"
    }
   ],
   "source": [
    "for i in range(9):\n",
    "    plt.subplot(331+i)\n",
    "    plt.imshow(train_img[i], cmap='gray')\n",
    "plt.show()"
   ]
  },
  {
   "cell_type": "markdown",
   "id": "3f87d045",
   "metadata": {},
   "source": [
    "## Normalizing of Data"
   ]
  },
  {
   "cell_type": "code",
   "execution_count": 8,
   "id": "cbb7ba4d",
   "metadata": {},
   "outputs": [],
   "source": [
    "train_img = train_img/255\n",
    "test_img = test_img/255"
   ]
  },
  {
   "cell_type": "markdown",
   "id": "27707787",
   "metadata": {},
   "source": [
    "## Building the NN"
   ]
  },
  {
   "cell_type": "code",
   "execution_count": 9,
   "id": "e37e7d7a",
   "metadata": {},
   "outputs": [],
   "source": [
    "nn = tf.keras.models.Sequential()\n",
    "nn.add(tf.keras.layers.Flatten(input_shape=(28, 28)))\n",
    "nn.add(tf.keras.layers.Dense(128, activation='relu'))\n",
    "nn.add(tf.keras.layers.Dense(128, activation='relu'))\n",
    "nn.add(tf.keras.layers.Dense(10, activation='softmax'))"
   ]
  },
  {
   "cell_type": "code",
   "execution_count": 10,
   "id": "0197c864",
   "metadata": {},
   "outputs": [],
   "source": [
    "# Compilation of the Model\n",
    "nn.compile(optimizer=tf.keras.optimizers.Adam(),\n",
    "           loss='sparse_categorical_crossentropy', metrics=['accuracy'])"
   ]
  },
  {
   "cell_type": "code",
   "execution_count": 11,
   "id": "e6365a3e",
   "metadata": {},
   "outputs": [
    {
     "name": "stdout",
     "output_type": "stream",
     "text": [
      "Epoch 1/20\n",
      "1875/1875 [==============================] - 5s 2ms/step - loss: 0.2283 - accuracy: 0.9321\n",
      "Epoch 2/20\n",
      "1875/1875 [==============================] - 3s 2ms/step - loss: 0.0973 - accuracy: 0.9698\n",
      "Epoch 3/20\n",
      "1875/1875 [==============================] - 3s 2ms/step - loss: 0.0670 - accuracy: 0.9788\n",
      "Epoch 4/20\n",
      "1875/1875 [==============================] - 3s 2ms/step - loss: 0.0496 - accuracy: 0.9848\n",
      "Epoch 5/20\n",
      "1875/1875 [==============================] - 3s 2ms/step - loss: 0.0420 - accuracy: 0.9865\n",
      "Epoch 6/20\n",
      "1875/1875 [==============================] - 3s 2ms/step - loss: 0.0328 - accuracy: 0.9891\n",
      "Epoch 7/20\n",
      "1875/1875 [==============================] - 3s 2ms/step - loss: 0.0298 - accuracy: 0.9900\n",
      "Epoch 8/20\n",
      "1875/1875 [==============================] - 3s 2ms/step - loss: 0.0224 - accuracy: 0.9926\n",
      "Epoch 9/20\n",
      "1875/1875 [==============================] - 3s 2ms/step - loss: 0.0220 - accuracy: 0.9927\n",
      "Epoch 10/20\n",
      "1875/1875 [==============================] - 3s 2ms/step - loss: 0.0193 - accuracy: 0.9938\n",
      "Epoch 11/20\n",
      "1875/1875 [==============================] - 4s 2ms/step - loss: 0.0189 - accuracy: 0.9937\n",
      "Epoch 12/20\n",
      "1875/1875 [==============================] - 3s 2ms/step - loss: 0.0139 - accuracy: 0.9958\n",
      "Epoch 13/20\n",
      "1875/1875 [==============================] - 3s 2ms/step - loss: 0.0141 - accuracy: 0.9955\n",
      "Epoch 14/20\n",
      "1875/1875 [==============================] - 3s 2ms/step - loss: 0.0154 - accuracy: 0.9950\n",
      "Epoch 15/20\n",
      "1875/1875 [==============================] - 3s 2ms/step - loss: 0.0113 - accuracy: 0.9964\n",
      "Epoch 16/20\n",
      "1875/1875 [==============================] - 3s 2ms/step - loss: 0.0115 - accuracy: 0.9962\n",
      "Epoch 17/20\n",
      "1875/1875 [==============================] - 3s 2ms/step - loss: 0.0136 - accuracy: 0.9957\n",
      "Epoch 18/20\n",
      "1875/1875 [==============================] - 3s 2ms/step - loss: 0.0096 - accuracy: 0.9971\n",
      "Epoch 19/20\n",
      "1875/1875 [==============================] - 3s 2ms/step - loss: 0.0106 - accuracy: 0.9965\n",
      "Epoch 20/20\n",
      "1875/1875 [==============================] - 3s 2ms/step - loss: 0.0125 - accuracy: 0.9961\n"
     ]
    },
    {
     "data": {
      "text/plain": [
       "<keras.callbacks.History at 0x20803f66b80>"
      ]
     },
     "execution_count": 11,
     "metadata": {},
     "output_type": "execute_result"
    }
   ],
   "source": [
    "# Fitting the train data into the neural network\n",
    "nn.fit(train_img, train_lbl, epochs=20)"
   ]
  },
  {
   "cell_type": "markdown",
   "id": "4444a320",
   "metadata": {},
   "source": [
    "## Evaluation with the Test Data"
   ]
  },
  {
   "cell_type": "code",
   "execution_count": 12,
   "id": "f91c7f92",
   "metadata": {},
   "outputs": [
    {
     "name": "stdout",
     "output_type": "stream",
     "text": [
      "313/313 [==============================] - 1s 2ms/step - loss: 0.1195 - accuracy: 0.9796\n"
     ]
    }
   ],
   "source": [
    "loss, acc = nn.evaluate(test_img, test_lbl)"
   ]
  },
  {
   "cell_type": "code",
   "execution_count": 13,
   "id": "8526c503",
   "metadata": {},
   "outputs": [
    {
     "name": "stdout",
     "output_type": "stream",
     "text": [
      "Accuracy of the Model: 97 %\n"
     ]
    }
   ],
   "source": [
    "print(\"Accuracy of the Model:\", int(acc*100), \"%\")"
   ]
  },
  {
   "cell_type": "code",
   "execution_count": 14,
   "id": "cf8cd3de",
   "metadata": {},
   "outputs": [
    {
     "name": "stdout",
     "output_type": "stream",
     "text": [
      "This number is: 7\n"
     ]
    },
    {
     "data": {
      "image/png": "[encoded data removed]",
      "text/plain": [
       "<Figure size 432x288 with 1 Axes>"
      ]
     },
     "metadata": {
      "needs_background": "light"
     },
     "output_type": "display_data"
    },
    {
     "name": "stdout",
     "output_type": "stream",
     "text": [
      "This number is: 2\n"
     ]
    },
    {
     "data": {
      "image/png": "[encoded data removed]",
      "text/plain": [
       "<Figure size 432x288 with 1 Axes>"
      ]
     },
     "metadata": {
      "needs_background": "light"
     },
     "output_type": "display_data"
    },
    {
     "name": "stdout",
     "output_type": "stream",
     "text": [
      "This number is: 1\n"
     ]
    },
    {
     "data": {
      "image/png": "[encoded data removed]",
      "text/plain": [
       "<Figure size 432x288 with 1 Axes>"
      ]
     },
     "metadata": {
      "needs_background": "light"
     },
     "output_type": "display_data"
    },
    {
     "name": "stdout",
     "output_type": "stream",
     "text": [
      "This number is: 0\n"
     ]
    },
    {
     "data": {
      "image/png": "[encoded data removed]",
      "text/plain": [
       "<Figure size 432x288 with 1 Axes>"
      ]
     },
     "metadata": {
      "needs_background": "light"
     },
     "output_type": "display_data"
    },
    {
     "name": "stdout",
     "output_type": "stream",
     "text": [
      "This number is: 4\n"
     ]
    },
    {
     "data": {
      "image/png": "[encoded data removed]",
      "text/plain": [
       "<Figure size 432x288 with 1 Axes>"
      ]
     },
     "metadata": {
      "needs_background": "light"
     },
     "output_type": "display_data"
    }
   ],
   "source": [
    "for i in range(0, 5):\n",
    "    plt.imshow(test_img[i])\n",
    "    prediction = nn.predict(test_img)\n",
    "    print(\"This number is:\",np.argmax(prediction[i]))\n",
    "    plt.imshow(test_img[i], cmap='gray')\n",
    "    plt.show()"
   ]
  },
  {
   "cell_type": "markdown",
   "id": "a7038694",
   "metadata": {},
   "source": [
    "As we can see the model is working well, being able to predict the correct number classes from the handwritten images of the digits quite well with an accuracy of 97%."
   ]
  },
  {
   "cell_type": "markdown",
   "id": "7226d445",
   "metadata": {},
   "source": [
    "# The End"
   ]
  }
 ],
 "metadata": {
  "kernelspec": {
   "display_name": "Python 3",
   "language": "python",
   "name": "python3"
  },
  "language_info": {
   "codemirror_mode": {
    "name": "ipython",
    "version": 3
   },
   "file_extension": ".py",
   "mimetype": "text/x-python",
   "name": "python",
   "nbconvert_exporter": "python",
   "pygments_lexer": "ipython3",
   "version": "3.8.8"
  }
 },
 "nbformat": 4,
 "nbformat_minor": 5
}
